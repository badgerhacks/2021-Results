{
 "cells": [
  {
   "cell_type": "code",
   "execution_count": 1,
   "metadata": {},
   "outputs": [],
   "source": [
    "#imports\n",
    "import csv\n",
    "import requests"
   ]
  },
  {
   "cell_type": "code",
   "execution_count": 2,
   "metadata": {},
   "outputs": [],
   "source": [
    "# declare histogram\n",
    "results = dict()"
   ]
  },
  {
   "cell_type": "code",
   "execution_count": 3,
   "metadata": {},
   "outputs": [
    {
     "data": {
      "text/plain": [
       "255"
      ]
     },
     "execution_count": 3,
     "metadata": {},
     "output_type": "execute_result"
    }
   ],
   "source": [
    "# download csv\n",
    "sheet_url = \"https://docs.google.com/spreadsheet/ccc?key=1LTE79QybOVBJHwNXBD7mxkop_wl60PM7eQ2dNId9AhQ&output=csv\"\n",
    "response = requests.get()\n",
    "assert response.status_code == 200, 'Wrong status code'\n",
    "open('sheet.csv', 'wb').write(response.content)"
   ]
  },
  {
   "cell_type": "code",
   "execution_count": 4,
   "metadata": {},
   "outputs": [],
   "source": [
    "# go through csv\n",
    "with open('sheet.csv', newline='') as csvfile:\n",
    "    reader = csv.reader(csvfile, delimiter=',', quotechar='|')\n",
    "    row_number = 1\n",
    "    multiplier = 5\n",
    "    for row in reader:\n",
    "        if row_number > 1:\n",
    "            for cell in row[1::]:\n",
    "                cur_score = results.get(cell.strip(), 0)\n",
    "                results[cell.strip()] = cur_score + multiplier\n",
    "            multiplier -= 1\n",
    "        row_number += 1"
   ]
  },
  {
   "cell_type": "code",
   "execution_count": 5,
   "metadata": {},
   "outputs": [
    {
     "name": "stdout",
     "output_type": "stream",
     "text": [
      "{'Carbon AI': 13, 'SlideSpeak': 11, 'CryptoSense': 8, 'Image2Audio': 8, 'yo': 3, 'The Rosetta Throne': 3, 'Battle Hamsters': 1, 'PDglint': 1}\n"
     ]
    }
   ],
   "source": [
    "# display results\n",
    "results.pop(\"\")\n",
    "print(results)"
   ]
  }
 ],
 "metadata": {
  "kernelspec": {
   "display_name": "Python 3",
   "language": "python",
   "name": "python3"
  },
  "language_info": {
   "codemirror_mode": {
    "name": "ipython",
    "version": 3
   },
   "file_extension": ".py",
   "mimetype": "text/x-python",
   "name": "python",
   "nbconvert_exporter": "python",
   "pygments_lexer": "ipython3",
   "version": "3.8.7"
  }
 },
 "nbformat": 4,
 "nbformat_minor": 4
}
